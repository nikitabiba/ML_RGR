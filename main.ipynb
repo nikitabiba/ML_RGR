{
 "cells": [
  {
   "cell_type": "code",
   "execution_count": null,
   "id": "4d15d011",
   "metadata": {},
   "outputs": [],
   "source": [
    "import pandas as pd\n",
    "import numpy as np\n",
    "from imblearn.over_sampling import SMOTE\n",
    "from sklearn.preprocessing import StandardScaler\n",
    "from sklearn.model_selection import train_test_split\n",
    "from sklearn.naive_bayes import GaussianNB\n",
    "from sklearn.ensemble import GradientBoostingClassifier, BaggingClassifier, StackingClassifier, RandomForestClassifier\n",
    "from xgboost import XGBClassifier\n",
    "import tensorflow as tf\n",
    "from sklearn.linear_model import LogisticRegression\n",
    "from sklearn.svm import SVC\n",
    "import pickle"
   ]
  },
  {
   "cell_type": "code",
   "execution_count": null,
   "id": "8d663474",
   "metadata": {},
   "outputs": [],
   "source": [
    "df = pd.read_csv('./datasets/csgo_processed.csv', sep=';')\n",
    "\n",
    "orig_X = df.drop(['bomb_planted'], axis=1).values\n",
    "orig_y = df['bomb_planted'].values\n",
    "\n",
    "oversampler = SMOTE()\n",
    "X, y = oversampler.fit_resample(orig_X, orig_y)\n",
    "\n",
    "ss = StandardScaler()\n",
    "X = ss.fit_transform(X)\n",
    "categorical_y = tf.keras.utils.to_categorical(y)\n",
    "\n",
    "X_train, X_test, y_train, y_test = train_test_split(X, y, test_size=0.2, random_state=42, stratify=y)\n",
    "cat_X_train, cat_X_test, cat_y_train, cat_y_test = train_test_split(X, categorical_y, test_size=0.2, random_state=42, stratify=categorical_y)"
   ]
  },
  {
   "cell_type": "code",
   "execution_count": null,
   "id": "297cc570",
   "metadata": {},
   "outputs": [],
   "source": [
    "gnb = GaussianNB()\n",
    "gbc = GradientBoostingClassifier(learning_rate=0.2, n_estimators=100, max_depth=5)\n",
    "bc = BaggingClassifier(n_estimators=100, max_features=0.5, max_samples=0.75)\n",
    "sc = StackingClassifier(cv=5, final_estimator=LogisticRegression(), estimators=[('lr', LogisticRegression()), ('rf', RandomForestClassifier()), ('svc', SVC(probability=True))])\n",
    "xgbc = XGBClassifier()\n",
    "nn = tf.keras.models.Sequential([\n",
    "    tf.keras.layers.Dense(64, activation='relu', input_shape=(X_train.shape[1],)),\n",
    "    tf.keras.layers.Dense(32, activation='relu'),\n",
    "    tf.keras.layers.Dense(2, activation='softmax')\n",
    "])"
   ]
  },
  {
   "cell_type": "code",
   "execution_count": null,
   "id": "0b4e5a04",
   "metadata": {},
   "outputs": [],
   "source": [
    "gnb.fit(X_train, y_train)\n",
    "print(\"GNB score:\", gnb.score(X_test, y_test))\n",
    "gbc.fit(X_train, y_train)\n",
    "print(\"GBC score:\", gbc.score(X_test, y_test))\n",
    "bc.fit(X_train, y_train)\n",
    "print(\"BC score:\", bc.score(X_test, y_test))\n",
    "sc.fit(X_train, y_train)\n",
    "print(\"SC score:\", sc.score(X_test, y_test))\n",
    "xgbc.fit(X_train, y_train)\n",
    "print(\"XGBC score:\", xgbc.score(X_test, y_test))"
   ]
  },
  {
   "cell_type": "code",
   "execution_count": null,
   "id": "10fc9d59",
   "metadata": {},
   "outputs": [],
   "source": [
    "nn.compile(optimizer='adam', loss='categorical_crossentropy', metrics=['accuracy'])\n",
    "nn.fit(cat_X_train, cat_y_train, epochs=100, batch_size=32, validation_data=(cat_X_test, cat_y_test))\n",
    "loss, accuracy = nn.evaluate(cat_X_test, cat_y_test, verbose=0)\n",
    "print(\"NN test accuracy:\", accuracy)"
   ]
  },
  {
   "cell_type": "code",
   "execution_count": null,
   "id": "dc6e7118",
   "metadata": {},
   "outputs": [],
   "source": [
    "with open('./models/gnb.pkl', 'wb') as f:\n",
    "    pickle.dump(gnb, f)\n",
    "with open('./models/gbc.pkl', 'wb') as f:\n",
    "    pickle.dump(gbc, f)\n",
    "with open('./models/bc.pkl', 'wb') as f:\n",
    "    pickle.dump(bc, f)\n",
    "with open('./models/sc.pkl', 'wb') as f:\n",
    "    pickle.dump(sc, f)\n",
    "with open('./models/xgbc.pkl', 'wb') as f:\n",
    "    pickle.dump(xgbc, f)\n",
    "nn.save('./models/nn_model.keras')"
   ]
  },
  {
   "cell_type": "code",
   "execution_count": null,
   "id": "a50c9211",
   "metadata": {},
   "outputs": [],
   "source": [
    "with open('./models/gnb.pkl', 'rb') as f:\n",
    "    gnb = pickle.load(f)\n",
    "with open('./models/gbc.pkl', 'rb') as f:\n",
    "    gbc = pickle.load(f)\n",
    "with open('./models/bc.pkl', 'rb') as f:\n",
    "    bc = pickle.load(f)\n",
    "with open('./models/sc.pkl', 'rb') as f:\n",
    "    sc = pickle.load(f)\n",
    "with open('./models/xgbc.pkl', 'rb') as f:\n",
    "    xgbc = pickle.load(f)\n",
    "nn = tf.keras.models.load_model('./models/nn_model.keras')"
   ]
  }
 ],
 "metadata": {
  "kernelspec": {
   "display_name": "Python 3",
   "language": "python",
   "name": "python3"
  },
  "language_info": {
   "codemirror_mode": {
    "name": "ipython",
    "version": 3
   },
   "file_extension": ".py",
   "mimetype": "text/x-python",
   "name": "python",
   "nbconvert_exporter": "python",
   "pygments_lexer": "ipython3",
   "version": "3.10.5"
  }
 },
 "nbformat": 4,
 "nbformat_minor": 5
}
